{
 "cells": [
  {
   "cell_type": "code",
   "execution_count": 1,
   "metadata": {},
   "outputs": [],
   "source": [
    "###importamos libreria\n",
    "import pandas as pd"
   ]
  },
  {
   "cell_type": "code",
   "execution_count": 4,
   "metadata": {},
   "outputs": [],
   "source": [
    "##leemos el archivo en formsto csv\n",
    "df = pd.read_csv(\"../docs/Programas de Universidades.csv\",sep='|',encoding=\"latin-1\")\n"
   ]
  },
  {
   "cell_type": "code",
   "execution_count": 18,
   "metadata": {},
   "outputs": [
    {
     "data": {
      "text/plain": [
       "array(['UNIVERSIDAD CÉSAR VALLEJO S.A.C.',\n",
       "       'UNIVERSIDAD NACIONAL DE TUMBES',\n",
       "       'UNIVERSIDAD PRIVADA ANTENOR ORREGO',\n",
       "       'UNIVERSIDAD NACIONAL DE PIURA',\n",
       "       'UNIVERSIDAD CATÓLICA SEDES SAPIENTIAE', 'UNIVERSIDAD DE PIURA',\n",
       "       'UNIVERSIDAD TECNOLÓGICA DEL PERÚ S.A.C.',\n",
       "       'UNIVERSIDAD NACIONAL DE FRONTERA'], dtype=object)"
      ]
     },
     "execution_count": 18,
     "metadata": {},
     "output_type": "execute_result"
    }
   ],
   "source": [
    "###nos imprime las columnas del documento leido por dataframe\n",
    "##df.columns\n",
    "##nos imprime las domenciones del data frame\n",
    "##df.shape\n",
    "##nos imprime datos del dataframe: detalle de los datos de cada columna  numerica\n",
    "##df.describe()\n",
    "##nos imprime datos de cada tipo de dato por columna\n",
    "##df.dtypes\n",
    "\n",
    "##accedemos a los datos unicos de una columna\n",
    "##df['NOMBRE'].unique()\n",
    "\n",
    "##accedemos a los datos unicos de una colu,na nivel academico\n",
    "###df['NIVEL_ACADEMICO'].unique()\n",
    "\n",
    "##accedemos a los datos unicos de la columna llamada departamento\n",
    "##df['DEPARTAMENTO_LOCAL'].unique()\n",
    "\n",
    "##Realizamos consulta al dataframe: nombres de universidades que ofrecen doctorado\n",
    "##df[df['NIVEL_ACADEMICO'] == \"DOCTORADO\"].head()\n",
    "\n",
    "##REALIZAMOS consulta al dataferame: universidades que ofrecen doctorados con AND(&)\n",
    "df.loc[(df['NIVEL_ACADEMICO']=='DOCTORADO') & (df[\"TIPO_GESTION\"] == 'PÚBLICO'),\"NOMBRE\"].unique()\n",
    "##REALIZAMOS UNA CONSULTA EN EL DATAFRAME usando or con el nombre piura y TUMBRES\n",
    "\n",
    "df.loc[(df['DEPARTAMENTO_LOCAL']=='PIURA') | (df['DEPARTAMENTO_LOCAL'] == \"TUMBES\"),\"NOMBRE\"].unique()"
   ]
  }
 ],
 "metadata": {
  "kernelspec": {
   "display_name": "analiticaDatosEF",
   "language": "python",
   "name": "python3"
  },
  "language_info": {
   "codemirror_mode": {
    "name": "ipython",
    "version": 3
   },
   "file_extension": ".py",
   "mimetype": "text/x-python",
   "name": "python",
   "nbconvert_exporter": "python",
   "pygments_lexer": "ipython3",
   "version": "3.11.3"
  },
  "orig_nbformat": 4
 },
 "nbformat": 4,
 "nbformat_minor": 2
}
