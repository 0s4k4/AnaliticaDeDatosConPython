{
 "cells": [
  {
   "cell_type": "code",
   "execution_count": 13,
   "metadata": {},
   "outputs": [],
   "source": [
    "###importamos la libreria de pandas\n",
    "import pandas as pd"
   ]
  },
  {
   "cell_type": "code",
   "execution_count": 17,
   "metadata": {},
   "outputs": [],
   "source": [
    "##definimos el dataframe desde python\n",
    "\n",
    "##mediantem codigos hacemos un formateo de una tabla\n",
    "tabla = pd.DataFrame({'Codigo':[\"AAA01\",\"AAA02\",\"AAA03\",\"AAA04\"],\n",
    "                      \"Nombre\":[\"Jorge\",\"Luis\",\"Victor\",\"Jose\"],\n",
    "                      \"Apellido\":['Garcia','Perez','España','Portes'],\n",
    "                      \"Edad\":[10,23,20,30]\n",
    "                     })\n",
    "\n",
    "\n",
    "\n",
    "##accedemos solo a estas columnas\n",
    "###tabla['CODIGO','Nombre']\n",
    "\n",
    "###accedemos a los datos de los dataFrames con loc"
   ]
  },
  {
   "cell_type": "code",
   "execution_count": 19,
   "metadata": {},
   "outputs": [
    {
     "data": {
      "text/plain": [
       "Codigo       AAA03\n",
       "Nombre      Victor\n",
       "Apellido    España\n",
       "Name: 2, dtype: object"
      ]
     },
     "execution_count": 19,
     "metadata": {},
     "output_type": "execute_result"
    }
   ],
   "source": [
    "###tabla.loc[2,[\"Codigo\",\"Nombre\"]]\n",
    "##con este metodo, entramos al elemento 2 y tremos el codigo y el nombre \n",
    "\n",
    "\n",
    "tabla.iloc[2,0:3]"
   ]
  }
 ],
 "metadata": {
  "kernelspec": {
   "display_name": "analiticaDatosEF",
   "language": "python",
   "name": "python3"
  },
  "language_info": {
   "codemirror_mode": {
    "name": "ipython",
    "version": 3
   },
   "file_extension": ".py",
   "mimetype": "text/x-python",
   "name": "python",
   "nbconvert_exporter": "python",
   "pygments_lexer": "ipython3",
   "version": "3.11.3"
  },
  "orig_nbformat": 4
 },
 "nbformat": 4,
 "nbformat_minor": 2
}
